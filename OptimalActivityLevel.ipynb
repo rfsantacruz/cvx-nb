{
abc "cells": [
  {
   "cell_type": "markdown",
   "metadata": {},
   "source": [
    "# Optimal Activity Levels\n",
    "\n",
    "We consider the selection of $n$ nonnegative activity levels, denoted $x_1 , \\ldots , x_n$. These activities consume $m$ resources, which are limited. Activity $j$ consumes $A_{ij} x_j$ of resource $i$, where $A_{ij}$ are given. The total resource consumption is additive, so the total of resource $i$ consumed is $c_i = \\sum_{j=1}^n A_{ij} x_j$ . (Ordinarily we have $A_{ij} \\geq 0$, i.e., activity $j$ consumes resource $i$. But we allow the possibility that $A_{ij} < 0$, which means that activity $j$ actually generates resource $i$ as a by-product.) Each resource consumption is limited: we must have $c_i \\leq c_i^{max}$, where $c_i^{max}$ are given. Each activity generates revenue, which is a piecewise-linear concave function of the activity level:\n",
    "\n",
    "\\begin{align}\n",
    "r_j(x_j) = \n",
    "     \\begin{cases}\n",
    "       p_j x_j & \\quad 0 \\leq x_j \\leq q_j\\\\\n",
    "       p_j x_j + p_j^{disc}(x_j - q_j) &\\quad x_j \\geq q_j\\\\\n",
    "     \\end{cases}\n",
    "\\end{align}\n",
    "\n",
    "Here $p_j > 0$ is the basic price, $q_j > 0$ is the quantity discount level, and $p_j^{disc}$ is the quantity discount price, for (the product of) activity $j$. (We have $0 < p_j^{disc} < p_j$ .) The total revenue is the sum of the revenues associated with each activity, i.e., $\\sum_{j=1}^n r_j(x_j)$. \n",
    "\n",
    "**The goal is to choose activity levels that maximize the total revenue while respecting the resource limits.**"
   ]
  },
  {
   "cell_type": "markdown",
   "metadata": {},
   "source": [
    "## Problem data\n",
    "\n",
    "Consider the following problem data,\n",
    "\n",
    "- $A \\in \\mathbb{R}^{m \\times n}$, where $A_{ij}$ is the amount of resource $i$ consumed/produced by unity of activity $j$\n",
    "- $c^{max} \\in \\mathbb{R}^m_+$, where $c_i$ is the maximum resource comsuption alowed for resource $i$\n",
    "- $p \\in \\mathbb{R}^n_+$, where $p_j$ is the basic price for activity $j$\n",
    "- $p^{disc} \\in \\mathbb{R}^n_+$, where $p_j^{disc}$ is the discount price for activity $j$\n",
    "- $q \\in \\mathbb{R}^n_+$, where $q_j$ is the quantity discount level for activity $j$\n"
   ]
  },
  {
   "cell_type": "code",
   "execution_count": 63,
   "metadata": {
    "collapsed": false
   },
   "outputs": [],
   "source": [
    "import numpy as np\n",
    "np.set_printoptions(precision=2, suppress=True)\n",
    "from cvxpy import *\n",
    "\n",
    "A = np.array([[1, 2, 0, 1], [0, 0, 3, 1],[0, 3, 1, 1], [2, 1, 2, 5], [1, 0, 3, 2]], dtype=np.float)\n",
    "cmax = np.array([100, 100, 100, 100, 100],dtype=np.float)\n",
    "p = np.array([3, 2, 7, 6],dtype=np.float)\n",
    "pdisc = np.array([2, 1, 4, 2],dtype=np.float)\n",
    "q = np.array([4, 10, 5, 10],dtype=np.float)\n",
    "\n"
   ]
  },
  {
   "cell_type": "markdown",
   "metadata": {},
   "source": [
    "## Problem Description\n",
    "\n",
    "The problem can be directly expressed as, \n",
    "\n",
    "\\begin{equation*}\n",
    "\\begin{aligned}\n",
    "& \\underset{x}{\\text{maximize}}\n",
    "& & \\sum_{j=1}^n r_j(x_j) \\\\\n",
    "& \\text{subject to}\n",
    "& & x \\succeq 0 \\\\\n",
    "& & & Ax \\preceq c^{max} \\\\\n",
    "\\end{aligned}\n",
    "\\end{equation*}\n",
    "\n",
    "This is a convex optimization problem since the objective is concave and constraints are a set of linear inequalities. Note the function $r_j(\\cdot)$, can be described as pointwise minimum of the two inner functions since maximizing the minimum of them is the same as maximizing $r_j(\\cdot)$.  In fact, this problem can be expressed as Linear Program (LP), but let the CVXPY do this job for us.\n"
   ]
  },
  {
   "cell_type": "code",
   "execution_count": 79,
   "metadata": {
    "collapsed": false
   },
   "outputs": [
    {
     "name": "stdout",
     "output_type": "stream",
     "text": [
      "Optimal revenue p* = 192.50\n",
      "Optimal activity levels x* = [  4.   22.5  31.    1.5]\n",
      "Optimal revenue per activity r_j: [  12.    32.5  139.     9. ]\n",
      "Average price per unit of activity: [ 3.    1.44  4.48  6.  ]\n",
      "Total Revenue: 192.50\n"
     ]
    }
   ],
   "source": [
    "# Revenue Function\n",
    "def revenue(x):\n",
    "    x_ravel = np.ravel(x)\n",
    "    ind1 = (x_ravel < q).astype(np.int)\n",
    "    ind2 = (x_ravel >= q).astype(np.int)\n",
    "    return (ind1 * p * x_ravel) + (ind2 * (p * q + pdisc * (x_ravel-q)))\n",
    "\n",
    "\n",
    "# Define the problem\n",
    "x = Variable(A.shape[1])\n",
    "objective = Maximize(sum(min_elemwise(mul_elemwise(p, x), mul_elemwise(p, q) + mul_elemwise(pdisc, (x-q)))))\n",
    "constraints = [x >= 0, A*x <= cmax]\n",
    "prob = Problem(objective, constraints)\n",
    "\n",
    "\n",
    "# Solve and print results\n",
    "result = prob.solve()\n",
    "print(\"Optimal revenue p* = {:.2f}\".format(result))\n",
    "print(\"Optimal activity levels x* = {}\".format(np.ravel(x.value)))\n",
    "print(\"Optimal revenue per activity r_j: {}\".format(revenue(x.value)))\n",
    "print(\"Average price per unit of activity: {}\".format(revenue(x.value)/np.ravel(x.value)))\n",
    "print(\"Total Revenue: {:.2f}\".format(revenue(x.value).sum()))"
   ]
  },
  {
   "cell_type": "code",
   "execution_count": null,
   "metadata": {
    "collapsed": true
   },
   "outputs": [],
   "source": []
  }
 ],
 "metadata": {
  "kernelspec": {
   "display_name": "Python 3",
   "language": "python",
   "name": "python3"
  },
  "language_info": {
   "codemirror_mode": {
    "name": "ipython",
    "version": 3
   },
   "file_extension": ".py",
   "mimetype": "text/x-python",
   "name": "python",
   "nbconvert_exporter": "python",
   "pygments_lexer": "ipython3",
   "version": "3.4.4"
  }
 },
 "nbformat": 4,
 "nbformat_minor": 0
}
